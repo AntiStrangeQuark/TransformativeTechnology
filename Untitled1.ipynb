{
 "cells": [
  {
   "cell_type": "code",
   "execution_count": 29,
   "metadata": {},
   "outputs": [
    {
     "data": {
      "text/html": [
       "<script>\n",
       "    // AUTORUN ALL CELLS ON NOTEBOOK-LOAD!\n",
       "    require(\n",
       "        ['base/js/namespace', 'jquery'], \n",
       "        function(jupyter, $) {\n",
       "            $(jupyter.events).on(\"kernel_ready.Kernel\", function () {\n",
       "                console.log(\"Auto-running all cells-below...\");\n",
       "                jupyter.actions.call('jupyter-notebook:run-all-cells-below');\n",
       "                jupyter.actions.call('jupyter-notebook:save-notebook');\n",
       "            });\n",
       "        }\n",
       "    );\n",
       "</script>\n"
      ],
      "text/plain": [
       "<IPython.core.display.HTML object>"
      ]
     },
     "metadata": {},
     "output_type": "display_data"
    }
   ],
   "source": [
    "%%html\n",
    "<script>\n",
    "    // AUTORUN ALL CELLS ON NOTEBOOK-LOAD!\n",
    "    require(\n",
    "        ['base/js/namespace', 'jquery'], \n",
    "        function(jupyter, $) {\n",
    "            $(jupyter.events).on(\"kernel_ready.Kernel\", function () {\n",
    "                console.log(\"Auto-running all cells-below...\");\n",
    "                jupyter.actions.call('jupyter-notebook:run-all-cells-below');\n",
    "                jupyter.actions.call('jupyter-notebook:save-notebook');\n",
    "            });\n",
    "        }\n",
    "    );\n",
    "</script>"
   ]
  },
  {
   "cell_type": "code",
   "execution_count": 30,
   "metadata": {},
   "outputs": [],
   "source": [
    "# General Purpose\n",
    "import numpy as np\n",
    "from matplotlib import pyplot as plt\n",
    "from scipy.integrate import odeint\n",
    "import ipywidgets.widgets as widgets\n",
    "\n",
    "# Jupyter Specifics\n",
    "from IPython.display import HTML\n",
    "from ipywidgets.widgets import interact, IntSlider, FloatSlider, Layout\n",
    "\n",
    "%matplotlib inline\n",
    "# \n",
    "style = {'description_width': '150px'}\n",
    "slider_layout = Layout(width='99%')"
   ]
  },
  {
   "cell_type": "code",
   "execution_count": 31,
   "metadata": {
    "code_folding": []
   },
   "outputs": [],
   "source": [
    "import numpy as np\n",
    "import matplotlib.pyplot as plt\n",
    "    \n",
    "\n",
    "    #Plots a burndown graph for a loan with Principal loan value (P), Monthly interest rate (r), \n",
    "    #and Loan term in months (N)\n",
    "def plot_burndown_compound(P,r,N):\n",
    "    nN = np.linspace(0,N,num=N+1)\n",
    "    c = r * P * (1 + r)**N /((1 + r)**N - 1)\n",
    "    A = (1+r)**nN*P-((1+r)**nN-1)/r*c\n",
    "    \n",
    "    fig = plt.figure(figsize=(8,6))\n",
    "    ax = fig.add_subplot(1, 1, 1)\n",
    "    ax.spines['left'].set_position('zero')\n",
    "    ax.spines['bottom'].set_position('zero')\n",
    "    ax.spines['right'].set_color('none')\n",
    "    ax.spines['top'].set_color('none')\n",
    "    ax.xaxis.set_ticks_position('bottom')\n",
    "    ax.yaxis.set_ticks_position('left')\n",
    "    ax.set_xlabel('Months')\n",
    "    ax.set_ylabel('cost in $')\n",
    "    plt.plot(nN,A,'r')\n",
    "    print('The loan will cost $' + str(round(c,2)) + ' per month')\n",
    "    \n",
    "    #Compares two investment options with generated revenue from A (mA), cost of A (cA), \n",
    "    #generated revenue form B (mB), and cost of B (cB)\n",
    "def plot_profit_linear_2(cA,mA,cB,mB):\n",
    "\n",
    "    breakEvenA = cA/mA\n",
    "    breakEvenB = cB/mB\n",
    "    nN = np.linspace(0,max(breakEvenA,breakEvenB)+2,num=max(breakEvenA,breakEvenB)*12+1)\n",
    "    \n",
    "    A = mA*nN - cA\n",
    "    B = mB*nN - cB\n",
    "    \n",
    "    fig = plt.figure(figsize=(8,6))\n",
    "    ax = fig.add_subplot(1, 1, 1)\n",
    "    ax.spines['left'].set_position('zero')\n",
    "    ax.spines['bottom'].set_position('zero')\n",
    "    ax.spines['right'].set_color('none')\n",
    "    ax.spines['top'].set_color('none')\n",
    "    ax.xaxis.set_ticks_position('bottom')\n",
    "    ax.yaxis.set_ticks_position('left')\n",
    "    ax.set_xlabel('Months')\n",
    "    ax.set_ylabel('cost in $')\n",
    "    plt.plot(nN,A,'r', label='Machine A')\n",
    "    plt.plot(nN,B,'b', label='Machine B')\n",
    "    plt.legend()\n",
    "    \n",
    "    print('Option A will break even after ' + str(round(breakEvenA,2)) + ' years')\n",
    "    print('Option B will break even after ' + str(round(breakEvenB,2)) + ' years')\n",
    "\n",
    "    #Determines the NPV for a fixed discount rate (r), initial purchase cost (p),\n",
    "    #projected revenue per interval beyond the first(v), and intervals beyond the first (n)\n",
    "    \n",
    "def NPV_calc_simple(r,p,v,n):\n",
    "    nv = np.full(n+1,v)\n",
    "    nv[0] = 0 - p\n",
    "    npv = np.npv(r,nv)\n",
    "    print('The Net Present Value is $' + str(round(npv,2)))"
   ]
  },
  {
   "cell_type": "code",
   "execution_count": 32,
   "metadata": {
    "scrolled": false
   },
   "outputs": [
    {
     "data": {
      "application/vnd.jupyter.widget-view+json": {
       "model_id": "cd70712505094667be21929d130634d0",
       "version_major": 2,
       "version_minor": 0
      },
      "text/plain": [
       "interactive(children=(IntSlider(value=75000, description='Cost machine A', layout=Layout(width='99%'), max=100…"
      ]
     },
     "metadata": {},
     "output_type": "display_data"
    }
   ],
   "source": [
    "interact(plot_profit_linear_2, \n",
    "         cA=IntSlider(min=0, max=1000000, step=1000, value=75000, description='Cost machine A', style=style, layout=slider_layout),\n",
    "         mA=IntSlider(min=0, max=100000, step=100, value=5000, description='revenue of machine A', style=style, layout=slider_layout),\n",
    "         cB=IntSlider(min=0, max=1000000, step=1000, value=80000, description='Cost machine B', style=style, layout=slider_layout),\n",
    "         mB=IntSlider(min=0, max=100000, step=100, value=3500, description='revenue of machine B', style=style, layout=slider_layout)\n",
    "        );"
   ]
  },
  {
   "cell_type": "code",
   "execution_count": 34,
   "metadata": {
    "scrolled": false
   },
   "outputs": [
    {
     "data": {
      "application/vnd.jupyter.widget-view+json": {
       "model_id": "7888babf96c848cca6acea1ff282cfae",
       "version_major": 2,
       "version_minor": 0
      },
      "text/plain": [
       "interactive(children=(IntSlider(value=75000, description='Initial value of the loan', layout=Layout(width='99%…"
      ]
     },
     "metadata": {},
     "output_type": "display_data"
    }
   ],
   "source": [
    "interact(plot_burndown_compound, \n",
    "         P=IntSlider(min=0, max=1000000, step=1000, value=75000, description='Initial value of the loan', style=style, layout=slider_layout),\n",
    "         r=FloatSlider(min=0, max=1, step=0.0001, value=0.05, description='interest rate', style=style, layout=slider_layout),\n",
    "         N=IntSlider(min=0, max=100, step=1, value=30, description='length of term in months', style=style, layout=slider_layout)\n",
    "        );"
   ]
  }
 ],
 "metadata": {
  "kernelspec": {
   "display_name": "Python 3",
   "language": "python",
   "name": "python3"
  },
  "language_info": {
   "codemirror_mode": {
    "name": "ipython",
    "version": 3
   },
   "file_extension": ".py",
   "mimetype": "text/x-python",
   "name": "python",
   "nbconvert_exporter": "python",
   "pygments_lexer": "ipython3",
   "version": "3.8.0"
  }
 },
 "nbformat": 4,
 "nbformat_minor": 2
}
