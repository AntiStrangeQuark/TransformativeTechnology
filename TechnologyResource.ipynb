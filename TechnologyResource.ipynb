{
 "cells": [
  {
   "cell_type": "code",
   "execution_count": 1,
   "metadata": {},
   "outputs": [
    {
     "data": {
      "text/html": [
       "<script>\n",
       "    // AUTORUN ALL CELLS ON NOTEBOOK-LOAD!\n",
       "    require(\n",
       "        ['base/js/namespace', 'jquery'], \n",
       "        function(jupyter, $) {\n",
       "            $(jupyter.events).on(\"kernel_ready.Kernel\", function () {\n",
       "                console.log(\"Auto-running all cells-below...\");\n",
       "                jupyter.actions.call('jupyter-notebook:run-all-cells-below');\n",
       "                jupyter.actions.call('jupyter-notebook:save-notebook');\n",
       "            });\n",
       "        }\n",
       "    );\n",
       "</script>\n"
      ],
      "text/plain": [
       "<IPython.core.display.HTML object>"
      ]
     },
     "metadata": {},
     "output_type": "display_data"
    }
   ],
   "source": [
    "%%html\n",
    "<script>\n",
    "    // AUTORUN ALL CELLS ON NOTEBOOK-LOAD!\n",
    "    require(\n",
    "        ['base/js/namespace', 'jquery'], \n",
    "        function(jupyter, $) {\n",
    "            $(jupyter.events).on(\"kernel_ready.Kernel\", function () {\n",
    "                console.log(\"Auto-running all cells-below...\");\n",
    "                jupyter.actions.call('jupyter-notebook:run-all-cells-below');\n",
    "                jupyter.actions.call('jupyter-notebook:save-notebook');\n",
    "            });\n",
    "        }\n",
    "    );\n",
    "</script>"
   ]
  },
  {
   "cell_type": "code",
   "execution_count": 2,
   "metadata": {},
   "outputs": [],
   "source": [
    "import numpy as np\n",
    "import matplotlib as mpl\n",
    "from matplotlib import pyplot as plt\n",
    "from scipy.integrate import odeint\n",
    "import ipywidgets.widgets as widgets\n",
    "import numpy as np\n",
    "import matplotlib.pyplot as plt\n",
    "from IPython.display import HTML\n",
    "from ipywidgets.widgets import interact, IntSlider, FloatSlider, Layout\n",
    "\n",
    "%matplotlib inline\n",
    "style = {'description_width': '150px'}\n",
    "slider_layout = Layout(width='99%')"
   ]
  },
  {
   "cell_type": "code",
   "execution_count": 3,
   "metadata": {
    "code_folding": [
     49
    ]
   },
   "outputs": [],
   "source": [
    "def plot_burndown_compound(P,r,N):\n",
    "    #Plots a burndown graph for a loan with Principal loan value (P), Monthly interest rate (r), \n",
    "    #and Loan term in months (N)\n",
    "    \n",
    "    ###########################################################\n",
    "    nN = np.linspace(0,N,num=N+1)\n",
    "    c = r * P * (1 + r)**N /((1 + r)**N - 1)\n",
    "    A = (1+r)**nN*P-((1+r)**nN-1)/r*c\n",
    "    ###########################################################\n",
    "    fig = plt.figure(figsize=(8,6))\n",
    "    ax = fig.add_subplot(1, 1, 1)\n",
    "    ax.spines['left'].set_position('zero')\n",
    "    ax.spines['bottom'].set_position('zero')\n",
    "    ax.spines['right'].set_color('none')\n",
    "    ax.spines['top'].set_color('none')\n",
    "    ax.xaxis.set_ticks_position('bottom')\n",
    "    ax.yaxis.set_ticks_position('left')\n",
    "    ax.set_xlabel('Months')\n",
    "    ax.set_ylabel('cost in $')\n",
    "    ax.yaxis.set_major_formatter(mpl.ticker.StrMethodFormatter('{x:,.0f}'))\n",
    "    plt.plot(nN,A,'r')\n",
    "    print('The loan will cost $' + str(round(c,2)) + ' per month')\n",
    "\n",
    "\n",
    "def plot_profit_linear_2(cA,mA,cB,mB):\n",
    "    #Compares two investment options with generated revenue from A (mA), cost of A (cA), \n",
    "    #generated revenue form B (mB), and cost of B (cB)\n",
    "    \n",
    "    #################################################################################\n",
    "    breakEvenA = cA/mA\n",
    "    breakEvenB = cB/mB\n",
    "    nN = np.linspace(0,int(max(breakEvenA,breakEvenB))+2,num=int(max(breakEvenA,breakEvenB)*12+1))\n",
    "    \n",
    "    A = mA*nN - cA\n",
    "    B = mB*nN - cB\n",
    "    ##################################################################################\n",
    "    \n",
    "    \n",
    "    fig = plt.figure(figsize=(8,6))\n",
    "    ax = fig.add_subplot(1, 1, 1)\n",
    "    ax.spines['left'].set_position('zero')\n",
    "    ax.spines['bottom'].set_position('zero')\n",
    "    ax.spines['right'].set_color('none')\n",
    "    ax.spines['top'].set_color('none')\n",
    "    ax.xaxis.set_ticks_position('bottom')\n",
    "    ax.yaxis.set_ticks_position('left')\n",
    "    ax.set_xlabel('Months')\n",
    "    ax.set_ylabel('cost in $')\n",
    "    ax.yaxis.set_major_formatter(mpl.ticker.StrMethodFormatter('{x:,.0f}'))\n",
    "    plt.plot(nN,A,'r', label='Machine A')\n",
    "    plt.plot(nN,B,'b', label='Machine B')\n",
    "    plt.legend()\n",
    "    \n",
    "    print('Machine A will break even after ' + str(round(breakEvenA,2)) + ' years')\n",
    "    print('Machine B will break even after ' + str(round(breakEvenB,2)) + ' years')\n"
   ]
  },
  {
   "cell_type": "code",
   "execution_count": 4,
   "metadata": {
    "code_folding": [],
    "scrolled": false
   },
   "outputs": [
    {
     "data": {
      "application/vnd.jupyter.widget-view+json": {
       "model_id": "4da19502edcc434b8f2ed3e5fc6ba66d",
       "version_major": 2,
       "version_minor": 0
      },
      "text/plain": [
       "interactive(children=(IntSlider(value=100000, description='Cost machine A', layout=Layout(width='99%'), max=10…"
      ]
     },
     "metadata": {},
     "output_type": "display_data"
    }
   ],
   "source": [
    "interact(plot_profit_linear_2, \n",
    "         cA=IntSlider(min=0, max=1000000, step=1000, value=100000, description='Cost machine A', style=style, layout=slider_layout),\n",
    "         mA=IntSlider(min=0, max=100000, step=100, value=15000, description='revenue of machine A', style=style, layout=slider_layout),\n",
    "         cB=IntSlider(min=0, max=1000000, step=1000, value=140000, description='Cost machine B', style=style, layout=slider_layout),\n",
    "         mB=IntSlider(min=0, max=100000, step=100, value=22000, description='revenue of machine B', style=style, layout=slider_layout)\n",
    "        );"
   ]
  },
  {
   "cell_type": "code",
   "execution_count": 5,
   "metadata": {
    "scrolled": false
   },
   "outputs": [
    {
     "data": {
      "application/vnd.jupyter.widget-view+json": {
       "model_id": "8a7105e4b2ca4ee4a09f32b864c69274",
       "version_major": 2,
       "version_minor": 0
      },
      "text/plain": [
       "interactive(children=(IntSlider(value=140000, description='Initial value of the loan', layout=Layout(width='99…"
      ]
     },
     "metadata": {},
     "output_type": "display_data"
    }
   ],
   "source": [
    "interact(plot_burndown_compound, \n",
    "         P=IntSlider(min=0, max=1000000, step=1000, value=140000, description='Initial value of the loan', style=style, layout=slider_layout),\n",
    "         r=FloatSlider(min=0, max=1, step=0.0001, value=0.031, description='interest rate', style=style, layout=slider_layout),\n",
    "         N=IntSlider(min=0, max=120, step=1, value=24, description='length of term in months', style=style, layout=slider_layout)\n",
    "        );"
   ]
  },
  {
   "cell_type": "code",
   "execution_count": 9,
   "metadata": {},
   "outputs": [
    {
     "data": {
      "text/html": [
       "<style>\n",
       "div.input{\n",
       "    display:none;\n",
       "}\n",
       "<\\style>\n"
      ],
      "text/plain": [
       "<IPython.core.display.HTML object>"
      ]
     },
     "metadata": {},
     "output_type": "display_data"
    }
   ],
   "source": [
    "%%html\n",
    "<style>\n",
    "div.input{\n",
    "    display:none;\n",
    "}\n",
    "<\\style>"
   ]
  }
 ],
 "metadata": {
  "kernelspec": {
   "display_name": "Python 3",
   "language": "python",
   "name": "python3"
  },
  "language_info": {
   "codemirror_mode": {
    "name": "ipython",
    "version": 3
   },
   "file_extension": ".py",
   "mimetype": "text/x-python",
   "name": "python",
   "nbconvert_exporter": "python",
   "pygments_lexer": "ipython3",
   "version": "3.8.0"
  }
 },
 "nbformat": 4,
 "nbformat_minor": 2
}
