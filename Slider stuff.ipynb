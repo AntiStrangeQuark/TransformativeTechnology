{
 "cells": [
  {
   "cell_type": "markdown",
   "metadata": {},
   "source": [
    "# Initial Configuration"
   ]
  },
  {
   "cell_type": "code",
   "execution_count": 1,
   "metadata": {},
   "outputs": [],
   "source": [
    "# General Purpose\n",
    "import numpy as np\n",
    "from matplotlib import pyplot as plt\n",
    "from scipy.integrate import odeint\n",
    "\n",
    "# Jupyter Specifics\n",
    "from IPython.display import HTML\n",
    "from ipywidgets.widgets import interact, IntSlider, FloatSlider, Layout\n",
    "\n",
    "%matplotlib inline\n",
    "# \n",
    "style = {'description_width': '150px'}\n",
    "slider_layout = Layout(width='99%')"
   ]
  },
  {
   "cell_type": "markdown",
   "metadata": {},
   "source": [
    "# Familiar Economy"
   ]
  },
  {
   "cell_type": "code",
   "execution_count": 6,
   "metadata": {},
   "outputs": [
    {
     "data": {
      "application/vnd.jupyter.widget-view+json": {
       "model_id": "525fe626878643dfbdd98ac8b8f8e73b",
       "version_major": 2,
       "version_minor": 0
      },
      "text/plain": [
       "interactive(children=(IntSlider(value=15000, description='Initial Salary', layout=Layout(width='99%'), max=250…"
      ]
     },
     "metadata": {},
     "output_type": "display_data"
    }
   ],
   "source": [
    "def main(initial_salary, savings_ration, extraordinary_expenses, fixed_costs, days):\n",
    "    saving_limit = savings_ration * initial_salary\n",
    "    \n",
    "    def function(capital, time):\n",
    "        if capital <= saving_limit:\n",
    "            out_rate = 0\n",
    "        else:\n",
    "            out_rate = extraordinary_expenses * (capital - saving_limit)\n",
    "        return -fixed_costs - out_rate\n",
    "    \n",
    "    time = np.linspace(0, days, days*10)\n",
    "    \n",
    "    solution = odeint(function, initial_salary, time)\n",
    "    \n",
    "    #Graphic details\n",
    "    fig, ax = plt.subplots(figsize=(15, 10))    \n",
    "    \n",
    "    ax.plot((0, days), (saving_limit, saving_limit), label='Saving Limit')\n",
    "    ax.plot(time, solution, label='Capital(t)')\n",
    "    \n",
    "    if days <= 60:\n",
    "        step = 1\n",
    "        rotation = \"horizontal\"\n",
    "    elif days <= 300:\n",
    "        step = 5\n",
    "        rotation = \"vertical\"\n",
    "    else:\n",
    "        step = 10\n",
    "        rotation = \"vertical\"\n",
    "    \n",
    "    ax.set_xticklabels(np.arange(0, days + 1, step, dtype=np.int), rotation=rotation)\n",
    "    ax.set_xticks(np.arange(0, days + 1, step))\n",
    "    \n",
    "    ax.set_yticks(np.arange(0, initial_salary * 1.1, initial_salary / 20))\n",
    "    \n",
    "    ax.set_xlim([0, days])\n",
    "    ax.set_ylim([0, initial_salary * 1.1])\n",
    "    ax.set_xlabel('Days')\n",
    "    ax.set_ylabel('Capital $')\n",
    "    ax.legend(loc='best')\n",
    "    ax.grid()\n",
    "    \n",
    "    plt.show()\n",
    "\n",
    "interact(main, initial_salary=IntSlider(min=0, max=25000, step=500, value=15000, description='Initial Salary', style=style, layout=slider_layout),\n",
    "               savings_ration=FloatSlider(min=0, max=1, step=0.01, value=0.2, description='Savings Ratio', style=style, layout=slider_layout),\n",
    "               extraordinary_expenses=FloatSlider(min=0, max=1, step=0.005, description='Extraordinary Expenses', style=style, value=0.3, layout=slider_layout),\n",
    "               fixed_costs=IntSlider(min=1, max=1000, step=1, value=100, description='Fixed Costs', style=style, layout=slider_layout),\n",
    "               days=IntSlider(min=1, max=600, step=5, value=30, description='Total Number of Days', style=style, layout=slider_layout)\n",
    "        );"
   ]
  },
  {
   "cell_type": "markdown",
   "metadata": {},
   "source": [
    "# House and Air Conditionings"
   ]
  },
  {
   "cell_type": "code",
   "execution_count": 3,
   "metadata": {},
   "outputs": [
    {
     "data": {
      "application/vnd.jupyter.widget-view+json": {
       "model_id": "b9da67d8c9384ce79758a8238c85de81",
       "version_major": 2,
       "version_minor": 0
      },
      "text/plain": [
       "interactive(children=(IntSlider(value=0, description='Initial sold Houses', layout=Layout(width='99%'), max=20…"
      ]
     },
     "metadata": {},
     "output_type": "display_data"
    }
   ],
   "source": [
    "def main(initial_houses, initial_ac, avg_time_house, avg_time_ac, total_houses, days):\n",
    "\n",
    "    def function(s, time):\n",
    "        x, y = s\n",
    "        dydt = [\n",
    "            (1 / avg_time_house) * (total_houses - x), # dx/dt: Change in the House sales\n",
    "            (1 / avg_time_ac) * (x - y) # dx/dt: Change in the AC sales\n",
    "        ]\n",
    "        return dydt\n",
    "    \n",
    "    time = np.linspace(0, days, days * 10)\n",
    "    initial_conditions = [initial_houses, initial_ac]\n",
    "    solution = odeint(function, initial_conditions, time)\n",
    "\n",
    "    #Graphic details\n",
    "    fig, ax = plt.subplots(figsize=(15, 10))\n",
    " \n",
    "    ax.plot(time, solution[:, 0], label='Houses(t)')\n",
    "    ax.plot(time, solution[:, 1], label='Air Conditionings(t)')\n",
    "    ax.plot((0, days), (total_houses, total_houses), label='Total Houses')\n",
    "    \n",
    "    if days <= 60:\n",
    "        step = 1\n",
    "        rotation = \"horizontal\"\n",
    "    elif days <= 300:\n",
    "        step = 5\n",
    "        rotation = \"vertical\"\n",
    "    else:\n",
    "        step = 10\n",
    "        rotation = \"vertical\"\n",
    "    \n",
    "    ax.set_xticklabels(np.arange(0, days + 1, step, dtype=np.int), rotation=rotation)\n",
    "    ax.set_xticks(np.arange(0, days + 1, step))\n",
    "    \n",
    "    ax.set_yticks(np.arange(0, total_houses * 1.1, total_houses / 20))\n",
    "\n",
    "    ax.set_xlim([0, days])\n",
    "    ax.set_ylim([0, total_houses * 1.1])\n",
    "    ax.set_xlabel('Months')\n",
    "    ax.set_ylabel('Units')\n",
    "    ax.legend(loc='best')\n",
    "    ax.grid()\n",
    "    \n",
    "    plt.show()\n",
    "\n",
    "interact(main, initial_houses=IntSlider(min=0, max=2000, step=10, value=0, description='Initial sold Houses', style=style, layout=slider_layout),\n",
    "               initial_ac=IntSlider(min=0, max=2000, step=10, value=0, description='Initial sold AC', style=style, layout=slider_layout),\n",
    "               total_houses=IntSlider(min=1, max=2000, step=100, value=1000, description='Total Houses', style=style, layout=slider_layout),\n",
    "               avg_time_house=FloatSlider(min=0.1, max=24, step=0.1, value=2, description='Time for House', style=style, layout=slider_layout),\n",
    "               avg_time_ac=FloatSlider(min=0.1, max=24, step=0.1, value=4, description='Time for AC', style=style, layout=slider_layout),\n",
    "               days=IntSlider(min=1, max=360, step=10, value=30, description='Total Number of Days', style=style, layout=slider_layout),\n",
    "        );"
   ]
  },
  {
   "cell_type": "markdown",
   "metadata": {},
   "source": [
    "# Stock Control"
   ]
  },
  {
   "cell_type": "code",
   "execution_count": 4,
   "metadata": {},
   "outputs": [
    {
     "data": {
      "application/vnd.jupyter.widget-view+json": {
       "model_id": "cbe7351a412a4bffaf3e83b3e249f406",
       "version_major": 2,
       "version_minor": 0
      },
      "text/plain": [
       "interactive(children=(IntSlider(value=4, description='Desired Stock', layout=Layout(width='99%'), min=1, style…"
      ]
     },
     "metadata": {},
     "output_type": "display_data"
    }
   ],
   "source": [
    "def main(desired_stock, initial_stock, initial_request, stock_control, market_demand, provider_delay, days):\n",
    "    \n",
    "    def function(v0, time):\n",
    "        x, y = v0\n",
    "        dydt = [\n",
    "            (1 / provider_delay) * y - market_demand, # dx/dt -> Change in Stock\n",
    "          - (1 / provider_delay) * y + market_demand + stock_control * (desired_stock - x) # dy/dt -> Change in Requests\n",
    "        ]\n",
    "        return dydt\n",
    "    \n",
    "    time = np.linspace(0, days, days * 10)\n",
    "    initial_conditions = [initial_stock, initial_request]\n",
    "    solution = odeint(function, initial_conditions, time)\n",
    "\n",
    "    #Graphic details\n",
    "    fig, ax = plt.subplots(figsize=(15, 10))\n",
    " \n",
    "    ax.plot(time, solution[:, 0], label='Stock(t)')\n",
    "    ax.plot(time, solution[:, 1], label='Requests(t)')\n",
    "    ax.plot((0, days), (desired_stock, desired_stock), label='Desired Stock')\n",
    "    \n",
    "    if days <= 60:\n",
    "        step = 1\n",
    "        rotation = \"horizontal\"\n",
    "    elif days <= 300:\n",
    "        step = 5\n",
    "        rotation = \"vertical\"\n",
    "    else:\n",
    "        step = 10\n",
    "        rotation = \"vertical\"\n",
    "    \n",
    "    ax.set_xticklabels(np.arange(0, days + 1, step, dtype=np.int), rotation=rotation)\n",
    "    ax.set_xticks(np.arange(0, days + 1, step))\n",
    "    \n",
    "    ax.set_xlim([0, days])\n",
    "    ax.set_ylim([0, max(max(solution[:, 0]), max(solution[:, 1])) * 1.05])\n",
    "    ax.set_xlabel('Days')\n",
    "    ax.set_ylabel('Units')\n",
    "    ax.legend(loc='best')\n",
    "    ax.grid()\n",
    "    \n",
    "    plt.show()\n",
    "    \n",
    "\n",
    "interact(main,\n",
    "        desired_stock=IntSlider(min=1, max=100, step=1, value=4, description='Desired Stock', style=style, layout=slider_layout),\n",
    "        initial_stock=IntSlider(min=1, max=100, step=1, value=8, description='Initial Stock', style=style, layout=slider_layout),\n",
    "        initial_request=IntSlider(min=1, max=100, step=1, value=14, description='Initial Requests', style=style, layout=slider_layout),\n",
    "        stock_control=FloatSlider(min=0, max=2, step=0.001, value=1.5, description='Stock Control', style=style, layout=slider_layout),\n",
    "        market_demand=FloatSlider(min=0, max=24, step=0.01, value=3, description='Market Demand', style=style, layout=slider_layout),\n",
    "        provider_delay=FloatSlider(min=0, max=10, step=0.1, value=4, description='Provider Delay', style=style, layout=slider_layout),\n",
    "        days=IntSlider(min=1, max=360, step=10, value=50, description='Total Number of Days', style=style, layout=slider_layout),\n",
    "        );"
   ]
  },
  {
   "cell_type": "markdown",
   "metadata": {},
   "source": [
    "# Useful life"
   ]
  },
  {
   "cell_type": "code",
   "execution_count": 8,
   "metadata": {},
   "outputs": [
    {
     "data": {
      "application/vnd.jupyter.widget-view+json": {
       "model_id": "a14945b0ef5f43779e3be31e0cd65925",
       "version_major": 2,
       "version_minor": 0
      },
      "text/plain": [
       "interactive(children=(FloatSlider(value=3.8, description='Useful Life (hs)', layout=Layout(width='99%'), max=2…"
      ]
     },
     "metadata": {},
     "output_type": "display_data"
    }
   ],
   "source": [
    "def main(useful_life, intake_mg, intake_interval, intake_number, hours):\n",
    "    \n",
    "    def function(y, t):\n",
    "        return - (np.log(2) / useful_life) * y # dy/dt -> Change of mg \n",
    "    \n",
    "    intake_hours = [intake_interval * i for i in range(intake_number - 1)]\n",
    "    initial_condition = intake_mg\n",
    "    times = []\n",
    "    solutions = []\n",
    "    \n",
    "    for intake_time in intake_hours:\n",
    "        time = np.arange(intake_time, intake_time + intake_interval, 0.1)\n",
    "        solution = odeint(function, initial_condition, time)\n",
    "        \n",
    "        initial_condition = solution[-1] + intake_mg\n",
    "        \n",
    "        times.extend(time)\n",
    "        solutions.extend(solution)\n",
    "        \n",
    "    \n",
    "    intake_time = intake_hours[-1] + intake_interval\n",
    "    time = np.arange(intake_time, intake_time + 10 * intake_interval, 0.1)\n",
    "    solution = odeint(function, initial_condition, time)\n",
    "    times.extend(time)\n",
    "    solutions.extend(solution)\n",
    "    \n",
    "    #Graphic details\n",
    "    fig, ax = plt.subplots(figsize=(15, 10))\n",
    "    \n",
    "    plt.plot(times, solutions, label='Concentration in the Body(t)')\n",
    "    \n",
    "    if hours <= 60:\n",
    "        step = 1\n",
    "        rotation = \"horizontal\"\n",
    "    elif hours <= 300:\n",
    "        step = 5\n",
    "        rotation = \"vertical\"\n",
    "    else:\n",
    "        step = 10\n",
    "        rotation = \"vertical\"\n",
    "    \n",
    "    ax.set_xticklabels(np.arange(0, hours + 1, step, dtype=np.int), rotation=rotation)\n",
    "    ax.set_xticks(np.arange(0, hours + 1, step))\n",
    "    \n",
    "    ax.set_xlim([0, hours])\n",
    "    ax.set_ylim([0, max(solutions) * 1.05])\n",
    "    ax.set_xlabel('Hours')\n",
    "    ax.set_ylabel('Concentration')\n",
    "    ax.legend(loc='best')\n",
    "    ax.grid()\n",
    "    \n",
    "    plt.show()\n",
    "\n",
    "interact(main,        \n",
    "        useful_life=FloatSlider(min=0, max=24, step=0.01, value=3.8, description='Useful Life (hs)', style=style, layout=slider_layout),\n",
    "        intake_mg=FloatSlider(min=0, max=1, step=0.001, value=0.01, description='Miligrams per Intake', style=style, layout=slider_layout),\n",
    "        intake_interval=FloatSlider(min=0, max=24, step=0.1, value=6, description='Hours between Intakes', style=style, layout=slider_layout),\n",
    "        intake_number=IntSlider(min=1, max=20, step=1, value=4, description='Number of Intakes', style=style, layout=slider_layout),\n",
    "        hours=FloatSlider(min=1, max=240, step=0.5, value=40, description='Total number of Hours', style=style, layout=slider_layout),\n",
    "        );"
   ]
  },
  {
   "cell_type": "markdown",
   "metadata": {},
   "source": [
    "# Foxes and Rabbits"
   ]
  },
  {
   "cell_type": "code",
   "execution_count": 7,
   "metadata": {},
   "outputs": [
    {
     "data": {
      "application/vnd.jupyter.widget-view+json": {
       "model_id": "dd41f6d77c3549feab3d1f31b1677d4b",
       "version_major": 2,
       "version_minor": 0
      },
      "text/plain": [
       "interactive(children=(FloatSlider(value=1.0, description='Birth Rate of Rabbits', layout=Layout(width='99%'), …"
      ]
     },
     "metadata": {},
     "output_type": "display_data"
    }
   ],
   "source": [
    "def main(rabbits_birthrate, rabbits_deathrate, foxes_birthrate, foxes_deathrate, initial_rabbits, zorros_inicial, days):\n",
    "\n",
    "    def function(s, t):\n",
    "        x, y = s\n",
    "        dydt = [\n",
    "            rabbits_birthrate * x - rabbits_deathrate * x * y, # dx/dy -> Change in Rabbits\n",
    "            foxes_birthrate * x * y - foxes_deathrate * y # dy/dt -> Change in Foxes\n",
    "        ]\n",
    "        \n",
    "        return dydt\n",
    "    \n",
    "    time = np.arange(0, days, 0.01)\n",
    "    initial_conditions = [initial_rabbits, zorros_inicial]\n",
    "    solution = odeint(function, initial_conditions, time)\n",
    "\n",
    "    #Graphic details\n",
    "    fig, axes = plt.subplots(1, 2, figsize=(15, 10))\n",
    "    \n",
    "    ax = axes[0]\n",
    "    \n",
    "    ax.plot(time, solution[:, 0], label='Liebres(t)')\n",
    "    ax.plot(time, solution[:, 1], label='Zorros(t)')\n",
    "    \n",
    "    if days <= 30:\n",
    "        step = 1\n",
    "        rotation = \"horizontal\"\n",
    "    elif days <= 150:\n",
    "        step = 5\n",
    "        rotation = \"vertical\"\n",
    "    else:\n",
    "        step = 10\n",
    "        rotation = \"vertical\"\n",
    "    \n",
    "    ax.set_xticklabels(np.arange(0, days + 1, step, dtype=np.int), rotation=rotation)\n",
    "    ax.set_xticks(np.arange(0, days + 1, step))\n",
    "        \n",
    "    ax.set_xlim([0, days])\n",
    "    ax.set_ylim([0, max(max(solution[:, 0]), max(solution[:, 1])) * 1.05])\n",
    "    ax.set_xlabel('Time')\n",
    "    ax.set_ylabel('Population')\n",
    "    ax.legend(loc='best')\n",
    "    ax.grid()\n",
    "    \n",
    "    \n",
    "    ax = axes[1]\n",
    "    \n",
    "    ax.plot(solution[:, 0], solution[:, 1], label='Foxes vs Rabbits')\n",
    "\n",
    "    ax.set_xlim([0, max(solution[:, 0]) * 1.05])\n",
    "    ax.set_ylim([0, max(solution[:, 1]) * 1.05])\n",
    "    ax.set_xlabel('Rabbits')\n",
    "    ax.set_ylabel('Foxes')\n",
    "    ax.legend(loc='best')\n",
    "    ax.grid()\n",
    "    \n",
    "    plt.tight_layout()\n",
    "    plt.show()\n",
    "\n",
    "interact(main, rabbits_birthrate=FloatSlider(min=0, max=24, step=0.01, value=1, description='Birth Rate of Rabbits', style=style, layout=slider_layout),\n",
    "               rabbits_deathrate=FloatSlider(min=0, max=24, step=0.01, value=1, description='Death Rate of Rabbits', style=style, layout=slider_layout),\n",
    "               foxes_birthrate=FloatSlider(min=0, max=24, step=0.01, value=1, description='Birth Rate of Foxes', style=style, layout=slider_layout),\n",
    "               foxes_deathrate=FloatSlider(min=0, max=24, step=0.01, value=1, description='Death Rate of Foxes', style=style, layout=slider_layout),\n",
    "               initial_rabbits=FloatSlider(min=0 , max=100, step=1, value=2, description='Initial Rabbits', style=style, layout=slider_layout),\n",
    "               zorros_inicial=FloatSlider(min=0 , max=100, step=1, value=1, description='Initial Foxes', style=style, layout=slider_layout),\n",
    "               days=FloatSlider(min=0 ,max=365 , step=10, value=15, description='Total number of Days', style=style, layout=slider_layout),\n",
    "        );"
   ]
  },
  {
   "cell_type": "code",
   "execution_count": null,
   "metadata": {},
   "outputs": [],
   "source": []
  }
 ],
 "metadata": {
  "kernelspec": {
   "display_name": "Python 3",
   "language": "python",
   "name": "python3"
  },
  "language_info": {
   "codemirror_mode": {
    "name": "ipython",
    "version": 3
   },
   "file_extension": ".py",
   "mimetype": "text/x-python",
   "name": "python",
   "nbconvert_exporter": "python",
   "pygments_lexer": "ipython3",
   "version": "3.8.0"
  }
 },
 "nbformat": 4,
 "nbformat_minor": 2
}
